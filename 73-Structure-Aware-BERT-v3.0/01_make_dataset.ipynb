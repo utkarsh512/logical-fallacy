{
 "cells": [
  {
   "attachments": {},
   "cell_type": "markdown",
   "metadata": {},
   "source": [
    "In this notebook, we download the repository for the paper - **Logical Fallacy Detection**, and extract their dataset for our use."
   ]
  },
  {
   "cell_type": "code",
   "execution_count": 1,
   "metadata": {},
   "outputs": [],
   "source": [
    "import pandas as pd\n",
    "import numpy as np"
   ]
  },
  {
   "cell_type": "code",
   "execution_count": 2,
   "metadata": {},
   "outputs": [
    {
     "name": "stdout",
     "output_type": "stream",
     "text": [
      "Cloning into 'logical-fallacy'...\n",
      "remote: Enumerating objects: 246, done.\u001b[K\n",
      "remote: Counting objects: 100% (65/65), done.\u001b[K\n",
      "remote: Compressing objects: 100% (37/37), done.\u001b[K\n",
      "remote: Total 246 (delta 40), reused 28 (delta 28), pack-reused 181\u001b[K\n",
      "Receiving objects: 100% (246/246), 10.54 MiB | 4.05 MiB/s, done.\n",
      "Resolving deltas: 100% (90/90), done.\n"
     ]
    }
   ],
   "source": [
    "!git clone https://github.com/causalNLP/logical-fallacy.git"
   ]
  },
  {
   "cell_type": "code",
   "execution_count": 25,
   "metadata": {},
   "outputs": [],
   "source": [
    "# Preprocess the dataset\n",
    "\n",
    "dataset_types = ('train', 'test', 'dev')\n",
    "\n",
    "\n",
    "for dataset_type in dataset_types:\n",
    "    df = pd.read_csv(f'./logical-fallacy/data/edu_{dataset_type}.csv')\n",
    "    df = df[['source_article', 'updated_label', 'masked_articles']]\n",
    "    df = df.rename(columns={'source_article': 'text', 'updated_label': 'label', 'masked_articles': 'masked_text'})\n",
    "    df.to_csv(f'./dataset/{dataset_type}.csv', index=False)\n",
    "    "
   ]
  },
  {
   "cell_type": "code",
   "execution_count": 26,
   "metadata": {},
   "outputs": [
    {
     "name": "stdout",
     "output_type": "stream",
     "text": [
      "Dataset: train\n",
      "                                                text                 label  \\\n",
      "0          company's slogan \"Expect More. Pay Less.\"     appeal to emotion   \n",
      "1  The bigger a child's shoe size, the better the...       false causality   \n",
      "2  Since many people believe this, then it must b...            ad populum   \n",
      "3  Senator Randall isn't lying when she says she ...    circular reasoning   \n",
      "4  A mother is telling her daughter that she went...  fallacy of relevance   \n",
      "\n",
      "                                         masked_text  \n",
      "0    company 's slogan \" Expect More . Pay Less . \"   \n",
      "1  The bigger MSK<0> shoe size , the better MSK<0...  \n",
      "2  Since many people believe this , then it must ...  \n",
      "3  MSK<0> is n't MSK<1> when MSK<0> says MSK<0> M...  \n",
      "4  MSK<0> is MSK<1> MSK<2> that MSK<0> went over ...  \n",
      "\n",
      "----------------------------------------------------------------------------------------------------\n",
      "\n",
      "Dataset: test\n",
      "                                                text                  label  \\\n",
      "0  People who drive big cars probably hate the en...   fallacy of extension   \n",
      "1      White men can't jump. No, really, they can't!  faulty generalization   \n",
      "2  'Cotton and grain crops were lower this year t...       fallacy of logic   \n",
      "3  \"Why are you hitting your computer!?\"\\n\"The la...        false causality   \n",
      "4      All students are good and all clowns are bad.  faulty generalization   \n",
      "\n",
      "                                         masked_text  \n",
      "0  People who drive big cars probably hate the en...  \n",
      "1  MSK<0> ca n't jump . No , really , MSK<0> ca n...  \n",
      "2  ' Cotton and grain crops were lower this year ...  \n",
      "3  \" Why are MSK<0> MSK<1> MSK<0> !? \" \" The last...  \n",
      "4    All students are good and all clowns are bad .   \n",
      "\n",
      "----------------------------------------------------------------------------------------------------\n",
      "\n",
      "Dataset: dev\n",
      "                                                text                  label  \\\n",
      "0  \"Just like students are given a couple of week...       fallacy of logic   \n",
      "1  You don’t have to do this. My grandmother is i...      appeal to emotion   \n",
      "2  I know five people from Kentucky. They are all...  faulty generalization   \n",
      "3  Pvt. Joe Bowers: What are these electrolytes? ...     circular reasoning   \n",
      "4  This is a fallacy of irrelevance that is based...             ad hominem   \n",
      "\n",
      "                                         masked_text  \n",
      "0  \" Just like students are given a couple of MSK...  \n",
      "1  You do n’t have to do this . MSK<0> grandmothe...  \n",
      "2  I know MSK<0> . MSK<0> are all MSK<1> . Theref...  \n",
      "3  MSK<1> : What are MSK<2> ? Do you even know ? ...  \n",
      "4  This is a fallacy of irrelevance that is based...  \n",
      "\n",
      "----------------------------------------------------------------------------------------------------\n",
      "\n"
     ]
    }
   ],
   "source": [
    "# Check the preprocessed datasets\n",
    "\n",
    "for dataset_type in dataset_types:\n",
    "    df = pd.read_csv(f'./dataset/{dataset_type}.csv')\n",
    "    print(f'Dataset: {dataset_type}')\n",
    "    print(df.head())\n",
    "    print('\\n' + '-' * 100 + '\\n')"
   ]
  },
  {
   "cell_type": "code",
   "execution_count": null,
   "metadata": {},
   "outputs": [],
   "source": []
  }
 ],
 "metadata": {
  "kernelspec": {
   "display_name": "base",
   "language": "python",
   "name": "python3"
  },
  "language_info": {
   "codemirror_mode": {
    "name": "ipython",
    "version": 3
   },
   "file_extension": ".py",
   "mimetype": "text/x-python",
   "name": "python",
   "nbconvert_exporter": "python",
   "pygments_lexer": "ipython3",
   "version": "3.8.3"
  },
  "orig_nbformat": 4
 },
 "nbformat": 4,
 "nbformat_minor": 2
}
